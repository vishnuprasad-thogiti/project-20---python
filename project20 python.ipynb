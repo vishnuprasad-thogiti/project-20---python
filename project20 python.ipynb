{
 "cells": [
  {
   "cell_type": "code",
   "execution_count": null,
   "id": "cb310fa0",
   "metadata": {},
   "outputs": [],
   "source": [
    "def creatingSquare(n):\n",
    " \n",
    "    # 2-D array with all slots set to 0\n",
    "    mgsqr = [[0 for x in range(n)]\n",
    "                   for y in range(n)]\n",
    " \n",
    "    # initialize position of 1\n",
    "    r = n // 2\n",
    "    c = n - 1\n",
    "    # Fill the magic square by placing values\n",
    "    num = 1\n",
    "    while num <= (n * n):\n",
    "        if r == -1 and c == n:  # 3rd condition\n",
    "            c = n - 2\n",
    "            r = 0\n",
    "        else:\n",
    "            # next number goes out of right side of square\n",
    "            if c == n:\n",
    "                c = 0\n",
    "            # next number goes out of upper side\n",
    "            if r < 0:\n",
    "                r = n - 1\n",
    " \n",
    "        if mgsqr[int(r)][int(c)]:  # 2nd condition\n",
    "            c= c - 2\n",
    "            r= r+ 1\n",
    "            continue\n",
    "        else:\n",
    "            mgsqr[int(r)][int(c)] = num\n",
    "            num = num + 1\n",
    " \n",
    "        c = c + 1\n",
    "        r = r - 1  # 1st condition\n",
    " \n",
    "    # Printing magic square\n",
    "    print(\"Magic Square for n =\", n)\n",
    "    print(\"Sum of each row and Column & Diagonal\",\n",
    "          n * (n * n + 1) // 2, \"\\n\")\n",
    " \n",
    "    for i in range(0, n):\n",
    "        for j in range(0, n):\n",
    "            print('%2d ' % (mgsqr[i][j]),\n",
    "                  end='')\n",
    "\n",
    "\n",
    "            if j == n - 1:\n",
    "                print()\n",
    " \n",
    "n = int(input(\"Enter no.of rows and columns : \"))\n",
    "creatingSquare(n)"
   ]
  },
  {
   "cell_type": "code",
   "execution_count": null,
   "id": "c71e404f",
   "metadata": {},
   "outputs": [],
   "source": []
  }
 ],
 "metadata": {
  "kernelspec": {
   "display_name": "Python 3 (ipykernel)",
   "language": "python",
   "name": "python3"
  },
  "language_info": {
   "codemirror_mode": {
    "name": "ipython",
    "version": 3
   },
   "file_extension": ".py",
   "mimetype": "text/x-python",
   "name": "python",
   "nbconvert_exporter": "python",
   "pygments_lexer": "ipython3",
   "version": "3.10.7"
  }
 },
 "nbformat": 4,
 "nbformat_minor": 5
}
